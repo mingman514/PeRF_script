{
 "cells": [
  {
   "cell_type": "markdown",
   "metadata": {},
   "source": [
    "Input으로 폴더 경로 지정\n",
    "-> test 번호 인식하여 그에 맞게 파싱 수행\n",
    "(각 케이스에 맞게 함수 호출)"
   ]
  },
  {
   "cell_type": "code",
   "execution_count": 1950,
   "metadata": {},
   "outputs": [
    {
     "data": {
      "text/plain": [
       "\"\\nX = label_Ops\\n\\nY1=[12, 45]\\nY2=[2, 4]\\nY3=[3, 5]\\ndf = pd.DataFrame([Y1, Y2, Y3], index=X, columns=label_Env)\\nprint(df)\\n\\n# fig, ax = plt.subplots(figsize=(12,6))\\nbar_width=0.4\\n\\n# 각 연도별로 3개 샵의 bar를 순서대로 나타내는 과정\\nindex = np.arange(len(X))\\nplt.bar(index, df['alone'], bar_width, alpha=0.4, color='red', label='alone')\\nplt.bar(index + bar_width, df['competed'], bar_width, alpha=0.4, color='blue', label='competed')\\n\\n# x축 위치를 정 가운데로 조정하고 x축의 텍스트를 매칭\\nplt.xticks(np.arange(bar_width/2, len(index)+bar_width/2, 1), X)\\nplt.xlabel('Operation', size = 13)\\nplt.ylabel('Throughput(Mops)', size = 13)\\nplt.legend()\\nplt.show()\\n\""
      ]
     },
     "execution_count": 1950,
     "metadata": {},
     "output_type": "execute_result"
    }
   ],
   "source": [
    "import os, sys\n",
    "import pandas as pd\n",
    "import matplotlib.pyplot as plt\n",
    "import numpy as np\n",
    "\n",
    "label_MsgSize=['alone', '256B', '512B', '1KB', '2KB', '4KB', '8KB', '16KB', '1MB', '1GB']\n",
    "label_MTU=['1KB MTU', '2KB MTU', '4KB MTU']\n",
    "\n",
    "label_Ops=['write', 'send', 'read']\n",
    "label_Env=['alone', 'competed']\n",
    "label_Env2=['single', 'multi']\n",
    "label_Env3=['alone avg', 'competed avg', 'alone 99%', 'competed 99%']\n",
    "label_Env4=['tput', 'avg. lat', '99% delay']\n",
    "\n",
    "label_Rate=['1:1', '1:2', '1:4', '1:8', '1:16', '1:32']\n",
    "label_Rate2=['1:1', '1:2', '1:4', '1:8', '1:16', '1:32', '1:64', '1:128']\n",
    "label_Size=['1MB', '1GB']\n",
    "label_TX=['1', '2', '4', '8', '16', '32']\n",
    "\n",
    "\"\"\"\n",
    "X = label_Ops\n",
    "\n",
    "Y1=[12, 45]\n",
    "Y2=[2, 4]\n",
    "Y3=[3, 5]\n",
    "df = pd.DataFrame([Y1, Y2, Y3], index=X, columns=label_Env)\n",
    "print(df)\n",
    "\n",
    "# fig, ax = plt.subplots(figsize=(12,6))\n",
    "bar_width=0.4\n",
    "\n",
    "# 각 연도별로 3개 샵의 bar를 순서대로 나타내는 과정\n",
    "index = np.arange(len(X))\n",
    "plt.bar(index, df['alone'], bar_width, alpha=0.4, color='red', label='alone')\n",
    "plt.bar(index + bar_width, df['competed'], bar_width, alpha=0.4, color='blue', label='competed')\n",
    "\n",
    "# x축 위치를 정 가운데로 조정하고 x축의 텍스트를 매칭\n",
    "plt.xticks(np.arange(bar_width/2, len(index)+bar_width/2, 1), X)\n",
    "plt.xlabel('Operation', size = 13)\n",
    "plt.ylabel('Throughput(Mops)', size = 13)\n",
    "plt.legend()\n",
    "plt.show()\n",
    "\"\"\""
   ]
  },
  {
   "cell_type": "code",
   "execution_count": 1951,
   "metadata": {},
   "outputs": [],
   "source": [
    "\"\"\" PARSING FUNCTIONS \"\"\"\n",
    "def getBwLines(filepath):\n",
    "    lines = []\n",
    "    with open(filepath, \"r\") as file:\n",
    "        flag = False\n",
    "        for idx, line in enumerate(file.readlines()):\n",
    "            if flag:\n",
    "                lines.append(line)\n",
    "            if line.split()[0] == \"#bytes\":\n",
    "                flag = True\n",
    "    return lines\n",
    "\n",
    "#  0: bytes #iterations  1: t_min[usec]  2: t_max[usec]  3: t_typical[usec]  4: t_avg[usec]  5: t_stdev[usec]   6: 99% percentile[usec]  7: 99.9% percentile[usec]\n",
    "def getLatLine(filepath):\n",
    "    with open(filepath, \"r\") as file:\n",
    "        flag = False\n",
    "        for idx, line in enumerate(file.readlines()):\n",
    "            if flag:\n",
    "                return line\n",
    "            if line.split()[0] == \"#bytes\":\n",
    "                flag = True\n",
    "                \n",
    "    print('There is no result for ' + filepath)\n",
    "    sys.exit(-1)\n",
    "\n",
    "# 0:bytes    1: iterations  2: BW peak[Gb/sec]  3: BW average[Gb/sec]  4: MsgRate[Mpps]\n",
    "def getNthValuesFromBW(fname, n):\n",
    "    values=[]\n",
    "    BW_lines = getBwLines(fname)\n",
    "    for line in BW_lines:\n",
    "        values.append(float(line.strip().split()[n]))\n",
    "    \n",
    "    return values\n",
    "\n",
    "def getNthValuesFromLat(fname, n):\n",
    "    line = getLatLine(fname)\n",
    "    return float(line.strip().split()[n])\n",
    "\n",
    "def getFileList(path):\n",
    "    return os.listdir(path)    "
   ]
  },
  {
   "cell_type": "markdown",
   "metadata": {},
   "source": [
    "### TEST 0\n",
    "Background Traffic Test"
   ]
  },
  {
   "cell_type": "code",
   "execution_count": 1952,
   "metadata": {},
   "outputs": [],
   "source": [
    "def runParserType0(test, file_list):\n",
    "    print('\\n##### TEST 0 #####')\n",
    "    print('---> '+test+'\\n')\n",
    "    mtu=4096\n",
    "    # index의 종류만큼 list가 있어야함\n",
    "    # 각 list에는 columns 수 만큼의 데이터 필요\n",
    "    X = label_MsgSize\n",
    "    Y = label_MTU\n",
    "\n",
    "    # Temp variables for parsing\n",
    "    X_label = ['0', '256', '512', '1024', '2048', '4096', '8192', '16384', '1048576', '1073741824']\n",
    "    Y_label = ['1024', '2048', '4096']\n",
    "    Y_list = [[0 for i in range(len(Y))] for j in range(len(X))]\n",
    "    \n",
    "    \"\"\" Msg Rate \"\"\"\n",
    "    for i, y in enumerate(Y_label):\n",
    "        for j, x in enumerate(X_label):\n",
    "            fname = f'write_{y}_{x}_msg'\n",
    "            \n",
    "            Y_list[j][i] = getNthValuesFromBW(os.path.join(os.getcwd(), test + '/' + fname), 4)[-2]\n",
    "            \n",
    "    ######### Plot ########\n",
    "    df = pd.DataFrame(Y_list, index=X, columns=Y)\n",
    "    print(df)\n",
    "\n",
    "    # 각 연도별로 3개 샵의 bar를 순서대로 나타내는 과정\n",
    "    index = np.arange(len(X))\n",
    "    plt.plot(index, df[Y[0]], alpha=0.4, color='red', label=Y[0])\n",
    "    plt.plot(index, df[Y[1]], alpha=0.4, color='blue', label=Y[1])\n",
    "    plt.plot(index, df[Y[2]], alpha=0.4, color='green', label=Y[2])\n",
    "\n",
    "    # x축 위치를 정 가운데로 조정하고 x축의 텍스트를 매칭\n",
    "    plt.xticks(index, X)\n",
    "    plt.title('Throughput over Background Traffic')\n",
    "    plt.xlabel('Operation', size = 13)\n",
    "    plt.ylabel('Throughput(Gbps)', size = 13)\n",
    "    plt.legend()\n",
    "    plt.show()\n",
    "    \n",
    "    \"\"\" Delay \"\"\"\n",
    "    for i, y in enumerate(Y_label):\n",
    "        for j, x in enumerate(X_label):\n",
    "            fname = f'write_{y}_{x}_lat'\n",
    "            \n",
    "            Y_list[j][i] = getNthValuesFromLat(os.path.join(os.getcwd(), test + '/' + fname), 5)\n",
    "            \n",
    "    ######### Plot ########\n",
    "    df = pd.DataFrame(Y_list, index=X, columns=Y)\n",
    "    print(df)\n",
    "\n",
    "    # 각 연도별로 3개 샵의 bar를 순서대로 나타내는 과정\n",
    "    index = np.arange(len(X))\n",
    "    plt.plot(index, df[Y[0]], alpha=0.4, color='red', label=Y[0])\n",
    "    plt.plot(index, df[Y[1]], alpha=0.4, color='blue', label=Y[1])\n",
    "    plt.plot(index, df[Y[2]], alpha=0.4, color='green', label=Y[2])\n",
    "\n",
    "    # x축 위치를 정 가운데로 조정하고 x축의 텍스트를 매칭\n",
    "    plt.xticks(index, X)\n",
    "    plt.title('Latency over Background Traffic')\n",
    "    plt.xlabel('Operation', size = 13)\n",
    "    plt.ylabel('Latency (us)', size = 13)\n",
    "    plt.legend()\n",
    "    plt.show()"
   ]
  },
  {
   "cell_type": "markdown",
   "metadata": {},
   "source": [
    "### TEST 1\n",
    "B vs M, D"
   ]
  },
  {
   "cell_type": "code",
   "execution_count": 1953,
   "metadata": {},
   "outputs": [],
   "source": [
    "# Y1=[123, 456]    #write\n",
    "# Y2=[2, 4]        #send\n",
    "# Y3=[3, 5]        #read\n",
    "\n",
    "def runParserType1(test, file_list):\n",
    "    print('\\n##### TEST 1 #####')\n",
    "    print('---> '+test+'\\n')\n",
    "    mtu=4096\n",
    "    # index의 종류만큼 list가 있어야함\n",
    "    # 각 list에는 columns 수 만큼의 데이터 필요\n",
    "    X = label_Ops\n",
    "    Y = label_Env\n",
    "    \n",
    "    \"\"\" MSG RATE \"\"\"\n",
    "    Y_list = [[0 for i in range(len(Y))] for j in range(len(X))]\n",
    "    \n",
    "    for i, env in enumerate(Y):\n",
    "        for j, op in enumerate(X):\n",
    "            fname = f'{op}_{mtu}_{env}_msg'\n",
    "            Y_list[j][i] = getNthValuesFromBW(os.path.join(os.getcwd(), test + '/' + fname), 4)[-2]\n",
    "            \n",
    "    ######### Plot ########\n",
    "    df = pd.DataFrame(Y_list, index=X, columns=Y)\n",
    "    print(df)\n",
    "\n",
    "    # fig, ax = plt.subplots(figsize=(12,6))\n",
    "    bar_width=0.4\n",
    "\n",
    "    # 각 연도별로 3개 샵의 bar를 순서대로 나타내는 과정\n",
    "    index = np.arange(len(X))\n",
    "    plt.bar(index, df[Y[0]], bar_width, alpha=0.4, color='red', label='alone')\n",
    "    plt.bar(index + bar_width, df[Y[1]], bar_width, alpha=0.4, color='blue', label='competed')\n",
    "\n",
    "    # x축 위치를 정 가운데로 조정하고 x축의 텍스트를 매칭\n",
    "    plt.xticks(np.arange(bar_width/2, len(index)+bar_width/2, 1), X)\n",
    "    plt.title('Throughput when Bw vs Msg')\n",
    "    plt.xlabel('Operation', size = 13)\n",
    "    plt.ylabel('Throughput(Mops)', size = 13)\n",
    "    plt.legend()\n",
    "    plt.show()\n",
    "    \n",
    "            \n",
    "    \"\"\" BW1 \"\"\"\n",
    "    Y_list = [[0 for i in range(len(Y))] for j in range(len(X))]\n",
    "    \n",
    "    for i, env in enumerate(Y):\n",
    "        for j, op in enumerate(X):\n",
    "            fname = f'{op}_{mtu}_{env}_bw'\n",
    "            if env == 'competed':\n",
    "                fname += '1'\n",
    "            Y_list[j][i] = getNthValuesFromBW(os.path.join(os.getcwd(), test + '/' + fname), 3)[-2]\n",
    "            \n",
    "    ######### Plot ########\n",
    "    df = pd.DataFrame(Y_list, index=X, columns=Y)\n",
    "    print(df)\n",
    "\n",
    "    # fig, ax = plt.subplots(figsize=(12,6))\n",
    "    bar_width=0.4\n",
    "\n",
    "    # 각 연도별로 3개 샵의 bar를 순서대로 나타내는 과정\n",
    "    index = np.arange(len(X))\n",
    "    plt.bar(index, df[Y[0]], bar_width, alpha=0.4, color='red', label='alone')\n",
    "    plt.bar(index + bar_width, df[Y[1]], bar_width, alpha=0.4, color='blue', label='competed')\n",
    "\n",
    "    # x축 위치를 정 가운데로 조정하고 x축의 텍스트를 매칭\n",
    "    plt.xticks(np.arange(bar_width/2, len(index)+bar_width/2, 1), X)\n",
    "    plt.title('Bandwidth when Bw vs Msg')\n",
    "    plt.xlabel('Operation', size = 13)\n",
    "    plt.ylabel('Throughput(Gbps)', size = 13)\n",
    "    plt.legend()\n",
    "    plt.show()\n",
    "    \n",
    "    \n",
    "    \"\"\" LATENCY \"\"\"\n",
    "    X = label_Ops\n",
    "    Y = label_Env\n",
    "    Y_label = label_Env3\n",
    "    Y_list = [[0 for i in range(4)] for j in range(len(X))]\n",
    "    \n",
    "    for i, env in enumerate(Y):\n",
    "        for j, op in enumerate(label_Ops):\n",
    "            fname = f'{op}_{mtu}_{env}_lat'\n",
    "            Y_list[j][i] = getNthValuesFromLat(os.path.join(os.getcwd(), test + '/' + fname), 5)\n",
    "            Y_list[j][i+2] = getNthValuesFromLat(os.path.join(os.getcwd(), test + '/' + fname), 7)\n",
    "            \n",
    "    ######### Plot ########\n",
    "    df = pd.DataFrame(Y_list, index=X, columns=Y_label)\n",
    "    print(df)\n",
    "\n",
    "    # fig, ax = plt.subplots(figsize=(12,6))\n",
    "    bar_width=0.15\n",
    "\n",
    "    # 각 연도별로 3개 샵의 bar를 순서대로 나타내는 과정\n",
    "    index = np.arange(len(X))\n",
    "    plt.bar(index, df[Y_label[0]], bar_width, alpha=0.4, color='red', label=Y_label[0])\n",
    "    plt.bar(index + bar_width, df[Y_label[1]], bar_width, alpha=0.4, color='blue', label=Y_label[1])\n",
    "    plt.bar(index + 2*bar_width, df[Y_label[2]], bar_width, alpha=0.4, color='yellow', label=Y_label[2])\n",
    "    plt.bar(index + 3*bar_width, df[Y_label[3]], bar_width, alpha=0.4, color='green', label=Y_label[3])\n",
    "\n",
    "    # x축 위치를 정 가운데로 조정하고 x축의 텍스트를 매칭\n",
    "    # plt.xticks(index, X)\n",
    "    plt.xticks(np.arange(bar_width, len(index)+bar_width, 1), X)\n",
    "    plt.title('Delay when Bw vs Lat')\n",
    "    plt.xlabel('Operation', size = 13)\n",
    "    plt.ylabel('Latency (us)', size = 13)\n",
    "    plt.legend()\n",
    "    plt.show()\n",
    "    \n",
    "    \"\"\" BW2 \"\"\"\n",
    "    Y_list = [[0 for i in range(len(Y))] for j in range(len(X))]\n",
    "    \n",
    "    for i, env in enumerate(Y):\n",
    "        for j, op in enumerate(X):\n",
    "            fname = f'{op}_{mtu}_{env}_bw'\n",
    "            if env == 'competed':\n",
    "                fname += '2'\n",
    "            Y_list[j][i] = getNthValuesFromBW(os.path.join(os.getcwd(), test + '/' + fname), 3)[-2]\n",
    "            \n",
    "    ######### Plot ########\n",
    "    df = pd.DataFrame(Y_list, index=X, columns=Y)\n",
    "    print(df)\n",
    "\n",
    "    # fig, ax = plt.subplots(figsize=(12,6))\n",
    "    bar_width=0.4\n",
    "\n",
    "    # 각 연도별로 3개 샵의 bar를 순서대로 나타내는 과정\n",
    "    index = np.arange(len(X))\n",
    "    plt.bar(index, df[Y[0]], bar_width, alpha=0.4, color='red', label='alone')\n",
    "    plt.bar(index + bar_width, df[Y[1]], bar_width, alpha=0.4, color='blue', label='competed')\n",
    "\n",
    "    # x축 위치를 정 가운데로 조정하고 x축의 텍스트를 매칭\n",
    "    plt.xticks(np.arange(bar_width/2, len(index)+bar_width/2, 1), X)\n",
    "    plt.title('Bandwidth when Bw vs Lat')\n",
    "    plt.xlabel('Operation', size = 13)\n",
    "    plt.ylabel('Throughput(Gbps)', size = 13)\n",
    "    plt.legend()\n",
    "    plt.show()"
   ]
  },
  {
   "cell_type": "markdown",
   "metadata": {},
   "source": [
    "### TEST 2\n",
    "B vs B\n",
    "poll"
   ]
  },
  {
   "cell_type": "code",
   "execution_count": 1954,
   "metadata": {},
   "outputs": [],
   "source": [
    "# 다시짜기 tx size에 따라 바뀌는 경향 실험임\n",
    "def runParserType2(test, file_list):\n",
    "    print('\\n##### TEST 2 #####')\n",
    "    print('---> '+test+'\\n')\n",
    "\n",
    "    mtu=4096\n",
    "    # index의 종류만큼 list가 있어야함\n",
    "    # 각 list에는 columns 수 만큼의 데이터 필요\n",
    "    X = label_TX\n",
    "    Y = label_Size\n",
    "            \n",
    "    \"\"\" Poll \"\"\"\n",
    "    Y_list = [[0 for i in range(len(Y))] for j in range(len(X))]\n",
    "    \n",
    "    for i, y in enumerate(Y):\n",
    "        for j, x in enumerate(X):\n",
    "            fname = f'write_{mtu}_{x}_{y}'\n",
    "            \n",
    "            Y_list[j][i] = getNthValuesFromBW(os.path.join(os.getcwd(), test + '/' + fname), 3)[-2]\n",
    "            \n",
    "    ######### Plot ########\n",
    "    df = pd.DataFrame(Y_list, index=X, columns=Y)\n",
    "    print(df)\n",
    "\n",
    "    # fig, ax = plt.subplots(figsize=(12,6))\n",
    "    bar_width=0.4\n",
    "\n",
    "    # 각 연도별로 3개 샵의 bar를 순서대로 나타내는 과정\n",
    "    index = np.arange(len(X))\n",
    "    plt.bar(index, df[Y[0]], bar_width, alpha=0.4, color='red', label='alone')\n",
    "    plt.bar(index + bar_width, df[Y[1]], bar_width, alpha=0.4, color='blue', label='competed')\n",
    "\n",
    "    # x축 위치를 정 가운데로 조정하고 x축의 텍스트를 매칭\n",
    "    plt.xticks(np.arange(bar_width/2, len(index)+bar_width/2, 1), X)\n",
    "    plt.title('Bandwidth when Bw vs Msg')\n",
    "    plt.xlabel('TX size', size = 13)\n",
    "    plt.ylabel('Throughput(Gbps)', size = 13)\n",
    "    plt.legend()\n",
    "    plt.show()\n"
   ]
  },
  {
   "cell_type": "markdown",
   "metadata": {},
   "source": [
    "### TEST 3\n",
    "B vs Multi B"
   ]
  },
  {
   "cell_type": "code",
   "execution_count": 1955,
   "metadata": {},
   "outputs": [],
   "source": [
    "def runParserType3(test, file_list):\n",
    "    print('\\n##### TEST 3 #####')\n",
    "    print('---> '+test+'\\n')\n",
    "    mtu=4096\n",
    "    # index의 종류만큼 list가 있어야함\n",
    "    # 각 list에는 columns 수 만큼의 데이터 필요\n",
    "    X = label_Rate\n",
    "    Y = label_Env2\n",
    "            \n",
    "    \"\"\" Poll \"\"\"\n",
    "    Y_list = [[0 for i in range(len(Y))] for j in range(len(X))]\n",
    "    \n",
    "    for i, y in enumerate(Y):\n",
    "        for j, x in enumerate(X):\n",
    "            num = x.split(\":\")[1]\n",
    "            fname = f'write_4096_{num}_{y}'\n",
    "            \n",
    "            Y_list[j][i] = getNthValuesFromBW(os.path.join(os.getcwd(), test + '/' + fname), 3)[-2]\n",
    "            \n",
    "    ######### Plot ########\n",
    "    df = pd.DataFrame(Y_list, index=X, columns=Y)\n",
    "    print(df)\n",
    "\n",
    "    # fig, ax = plt.subplots(figsize=(12,6))\n",
    "    bar_width=0.4\n",
    "\n",
    "    # 각 연도별로 3개 샵의 bar를 순서대로 나타내는 과정\n",
    "    index = np.arange(len(X))\n",
    "    plt.bar(index, df[Y[0]], bar_width, alpha=0.4, color='red', label=Y[0])\n",
    "    plt.bar(index + bar_width, df[Y[1]], bar_width, alpha=0.4, color='blue', label=Y[1])\n",
    "\n",
    "    # x축 위치를 정 가운데로 조정하고 x축의 텍스트를 매칭\n",
    "    plt.xticks(np.arange(bar_width/2, len(index)+bar_width/2, 1), X)\n",
    "    plt.title('Bandwidth when Single B vs Multi B')\n",
    "    plt.xlabel('Operation', size = 13)\n",
    "    plt.ylabel('Throughput(Gbps)', size = 13)\n",
    "    plt.legend()\n",
    "    plt.show()"
   ]
  },
  {
   "cell_type": "markdown",
   "metadata": {},
   "source": [
    "### TEST 4\n",
    "Single M vs Single D"
   ]
  },
  {
   "cell_type": "code",
   "execution_count": 1956,
   "metadata": {},
   "outputs": [],
   "source": [
    "def runParserType4(test, file_list):\n",
    "    print('\\n##### TEST 4 #####')\n",
    "    print('---> '+test+'\\n')\n",
    "\n",
    "    X = label_MTU\n",
    "    Y = label_Env\n",
    "    \n",
    "    X_label = ['1024', '2048', '4096']\n",
    "    \n",
    "    \"\"\" MSG RATE \"\"\"\n",
    "    Y_list = [[0 for i in range(len(Y))] for j in range(len(X))]\n",
    "    \n",
    "    for i, y in enumerate(Y):\n",
    "        for j, x in enumerate(X_label):\n",
    "            fname = f'write_{x}_{y}_msg'\n",
    "            Y_list[j][i] = getNthValuesFromBW(os.path.join(os.getcwd(), test + '/' + fname), 4)[-2]\n",
    "            \n",
    "    ######### Plot ########\n",
    "    df = pd.DataFrame(Y_list, index=X, columns=Y)\n",
    "    print(df)\n",
    "\n",
    "    # fig, ax = plt.subplots(figsize=(12,6))\n",
    "    bar_width=0.4\n",
    "\n",
    "    # 각 연도별로 3개 샵의 bar를 순서대로 나타내는 과정\n",
    "    index = np.arange(len(X))\n",
    "    plt.bar(index, df[Y[0]], bar_width, alpha=0.4, color='red', label='alone')\n",
    "    plt.bar(index + bar_width, df[Y[1]], bar_width, alpha=0.4, color='blue', label='competed')\n",
    "\n",
    "    # x축 위치를 정 가운데로 조정하고 x축의 텍스트를 매칭\n",
    "    plt.ylim(0, 30)\n",
    "    plt.xticks(np.arange(bar_width/2, len(index)+bar_width/2, 1), X)\n",
    "    plt.title('Tput when Single M vs Single D')\n",
    "    plt.xlabel('Operation', size = 13)\n",
    "    plt.ylabel('Throughput(Mops)', size = 13)\n",
    "    plt.legend()\n",
    "    plt.show()\n",
    "    \n",
    "    \n",
    "    \"\"\" LATENCY \"\"\"\n",
    "    X = label_MTU\n",
    "    Y = label_Env3\n",
    "    \n",
    "    Y_list = [[0 for i in range(4)] for j in range(len(X))]\n",
    "    \n",
    "    for i, y in enumerate(label_Env):\n",
    "        for j, x in enumerate(X_label):\n",
    "            fname = f'write_{x}_{y}_lat'\n",
    "            Y_list[j][i] = getNthValuesFromLat(os.path.join(os.getcwd(), test + '/' + fname), 5)\n",
    "            Y_list[j][i+2] = getNthValuesFromLat(os.path.join(os.getcwd(), test + '/' + fname), 7)\n",
    "            \n",
    "    ######### Plot ########\n",
    "    df = pd.DataFrame(Y_list, index=X, columns=Y)\n",
    "    print(df)\n",
    "\n",
    "    # fig, ax = plt.subplots(figsize=(12,6))\n",
    "    bar_width=0.15\n",
    "\n",
    "    # 각 연도별로 3개 샵의 bar를 순서대로 나타내는 과정\n",
    "    index = np.arange(len(X))\n",
    "    plt.bar(index, df[Y[0]], bar_width, alpha=0.4, color='red', label=Y[0])\n",
    "    plt.bar(index + bar_width, df[Y[1]], bar_width, alpha=0.4, color='blue', label=Y[1])\n",
    "    plt.bar(index + 2*bar_width, df[Y[1]], bar_width, alpha=0.4, color='yellow', label=Y[2])\n",
    "    plt.bar(index + 3*bar_width, df[Y[1]], bar_width, alpha=0.4, color='green', label=Y[3])\n",
    "\n",
    "    # x축 위치를 정 가운데로 조정하고 x축의 텍스트를 매칭\n",
    "    # plt.xticks(index, X)\n",
    "    plt.ylim(0, 5)\n",
    "    plt.xticks(np.arange(bar_width, len(index)+bar_width, 1), X)\n",
    "    plt.title('Delay when Single M vs Single D')\n",
    "    plt.xlabel('Operation', size = 13)\n",
    "    plt.ylabel('Latency (us)', size = 13)\n",
    "    plt.legend()\n",
    "    plt.show()"
   ]
  },
  {
   "cell_type": "markdown",
   "metadata": {},
   "source": [
    "### TEST 5\n",
    "Single B vs Multi M"
   ]
  },
  {
   "cell_type": "code",
   "execution_count": 1957,
   "metadata": {},
   "outputs": [],
   "source": [
    "def runParserType5(test, file_list):\n",
    "    print('\\n##### TEST 5 #####')\n",
    "    print('---> '+test+'\\n')\n",
    "    mtu=4096\n",
    "    # index의 종류만큼 list가 있어야함\n",
    "    # 각 list에는 columns 수 만큼의 데이터 필요\n",
    "    X = label_Rate2\n",
    "    Y = label_Env2\n",
    "            \n",
    "    \"\"\" Poll \"\"\"\n",
    "    Y_list = [[0 for i in range(len(Y))] for j in range(len(X))]\n",
    "    \n",
    "    for i, y in enumerate(Y):\n",
    "        for j, x in enumerate(X):\n",
    "            num = x.split(\":\")[1]\n",
    "            fname = f'write_4096_{num}_'\n",
    "            if y == 'single':\n",
    "                fname += 'bw'\n",
    "                Y_list[j][i] = getNthValuesFromBW(os.path.join(os.getcwd(), test + '/' + fname), 3)[-2]\n",
    "            else:\n",
    "                fname += 'msg'\n",
    "                Y_list[j][i] = getNthValuesFromBW(os.path.join(os.getcwd(), test + '/' + fname), 4)[-2]\n",
    "            \n",
    "            \n",
    "    ######### Plot ########\n",
    "    df = pd.DataFrame(Y_list, index=X, columns=Y)\n",
    "    print(df)\n",
    "\n",
    "    fig, ax1 = plt.subplots()\n",
    "    bar_width=0.4\n",
    "\n",
    "    ax1.bar(X, df['single'], color='red', alpha=0.4, label=Y[0])\n",
    "    ax1.set_ylim(0, 100)\n",
    "    ax1.set_xlabel('QP Num')\n",
    "    ax1.set_ylabel('Throughput(Gbps)')\n",
    "    ax1.tick_params(axis='both', direction='in')\n",
    "\n",
    "    ax2 = ax1.twinx()\n",
    "    ax2.plot(X, df['multi'], color='blue', alpha=0.4, label=Y[1], linewidth=5)\n",
    "    ax2.set_ylim(0, 100)\n",
    "    ax2.set_ylabel(r'Throughput (Mops)')\n",
    "    ax2.tick_params(axis='y', direction='in')\n",
    "    \n",
    "    # 두 그래프의 legend 합치기\n",
    "    lines, labels = ax1.get_legend_handles_labels()\n",
    "    lines2, labels2 = ax2.get_legend_handles_labels()\n",
    "    ax2.legend(lines + lines2, labels + labels2, loc=0)\n",
    "    plt.title('Throughput when Single B vs Multi M')\n",
    "    plt.show()"
   ]
  },
  {
   "cell_type": "markdown",
   "metadata": {},
   "source": [
    "### TEST 6\n",
    "Single M vs Multi M"
   ]
  },
  {
   "cell_type": "code",
   "execution_count": 1958,
   "metadata": {},
   "outputs": [],
   "source": [
    "def runParserType6(test, file_list):\n",
    "    print('\\n##### TEST 6 #####')\n",
    "    print('---> '+test+'\\n')\n",
    "    mtu=4096\n",
    "    # index의 종류만큼 list가 있어야함\n",
    "    # 각 list에는 columns 수 만큼의 데이터 필요\n",
    "    X = label_Rate2\n",
    "    Y = label_Env2\n",
    "            \n",
    "    Y_list = [[0 for i in range(len(Y))] for j in range(len(X))]\n",
    "    \n",
    "    for i, y in enumerate(Y):\n",
    "        for j, x in enumerate(X):\n",
    "            num = x.split(\":\")[1]\n",
    "            fname = f'write_4096_{num}_{y}'\n",
    "            if y == 'single':\n",
    "                Y_list[j][i] = getNthValuesFromBW(os.path.join(os.getcwd(), test + '/' + fname), 4)[-2]\n",
    "            else:\n",
    "                Y_list[j][i] = getNthValuesFromBW(os.path.join(os.getcwd(), test + '/' + fname), 4)[-2]\n",
    "            \n",
    "            \n",
    "    ######### Plot ########\n",
    "    df = pd.DataFrame(Y_list, index=X, columns=Y)\n",
    "    print(df)\n",
    "    \n",
    "    # fig, ax = plt.subplots(figsize=(12,6))\n",
    "    bar_width=0.4\n",
    "\n",
    "    # 각 연도별로 3개 샵의 bar를 순서대로 나타내는 과정\n",
    "    index = np.arange(len(X))\n",
    "    plt.bar(index, df[Y[0]], bar_width, alpha=0.4, color='red', label=Y[0])\n",
    "    plt.bar(index + bar_width, df[Y[1]], bar_width, alpha=0.4, color='blue', label=Y[1])\n",
    "\n",
    "    # x축 위치를 정 가운데로 조정하고 x축의 텍스트를 매칭\n",
    "    plt.xticks(np.arange(bar_width/2, len(index)+bar_width/2, 1), X)\n",
    "    plt.title('Throughput when Single M vs Multi M')\n",
    "    plt.xlabel('Operation', size = 13)\n",
    "    plt.ylabel('Throughput(Mops)', size = 13)\n",
    "    plt.legend()\n",
    "    plt.show()"
   ]
  },
  {
   "cell_type": "markdown",
   "metadata": {},
   "source": [
    "### TEST 7\n",
    "Single D vs Multi M"
   ]
  },
  {
   "cell_type": "code",
   "execution_count": 1959,
   "metadata": {},
   "outputs": [],
   "source": [
    "def runParserType7(test, file_list):\n",
    "    print('\\n##### TEST 7 #####')\n",
    "    print('---> '+test+'\\n')\n",
    "    mtu=4096\n",
    "    # index의 종류만큼 list가 있어야함\n",
    "    # 각 list에는 columns 수 만큼의 데이터 필요\n",
    "    X = label_Rate\n",
    "    Y = label_Env4\n",
    "\n",
    "    Y_label = ['msg', 'lat']\n",
    "    Y_list = [[0 for i in range(len(Y))] for j in range(len(X))]\n",
    "    \n",
    "    for i, y in enumerate(Y_label):\n",
    "        for j, x in enumerate(X):\n",
    "            num = x.split(\":\")[1]\n",
    "            fname = f'write_4096_{num}_{y}'\n",
    "            if y == 'msg':\n",
    "                Y_list[j][i] = getNthValuesFromBW(os.path.join(os.getcwd(), test + '/' + fname), 4)[-2]\n",
    "            elif y == 'lat':\n",
    "                Y_list[j][i] = getNthValuesFromLat(os.path.join(os.getcwd(), test + '/' + fname), 5)\n",
    "                Y_list[j][i+1] = getNthValuesFromLat(os.path.join(os.getcwd(), test + '/' + fname), 7)\n",
    "            \n",
    "            \n",
    "    ######### Plot ########\n",
    "    df = pd.DataFrame(Y_list, index=X, columns=Y)\n",
    "    print(df)\n",
    "    \n",
    "    fig, ax1 = plt.subplots()\n",
    "    \n",
    "    index = np.arange(len(X))\n",
    "    bar_width=0.4\n",
    "    ax1.bar(index, df[Y[1]], bar_width, color='green', alpha=0.4, label=Y[1])\n",
    "    ax1.set_ylim(0, 10)\n",
    "    ax1.set_xlabel('QP Num')\n",
    "    ax1.set_ylabel('Latency (us)')\n",
    "    ax1.tick_params(axis='y', direction='in')\n",
    "\n",
    "    # ax2 = ax1.twinx()\n",
    "    ax1.bar(index + bar_width, df[Y[2]], bar_width, color='blue', alpha=0.4, label=Y[2])\n",
    "    \n",
    "    ax2 = ax1.twinx()\n",
    "    ax2.plot(X, df[Y[0]], color='red', alpha=0.4, label=Y[0], linewidth=3)\n",
    "    ax2.set_ylim(0, 110)\n",
    "    ax2.tick_params(axis='both', direction='in')\n",
    "    \n",
    "    # 두 그래프의 legend 합치기\n",
    "    lines2, labels2 = ax2.get_legend_handles_labels()\n",
    "    lines, labels = ax1.get_legend_handles_labels()\n",
    "    ax2.legend(lines2 + lines, labels2 + labels, loc='upper left')\n",
    "    plt.xticks(np.arange(bar_width/2, len(index)+bar_width/2, 1), X)\n",
    "    plt.title('Tput & Delays when Single D vs Multi M')\n",
    "    plt.show()"
   ]
  },
  {
   "cell_type": "markdown",
   "metadata": {},
   "source": [
    "### TEST 8\n",
    "Single D vs Multi B"
   ]
  },
  {
   "cell_type": "code",
   "execution_count": 1960,
   "metadata": {},
   "outputs": [],
   "source": [
    "def runParserType8(test, file_list):\n",
    "    print('\\n##### TEST 8 #####')\n",
    "    print('---> '+test+'\\n')\n",
    "    \n",
    "    mtu=4096\n",
    "    # index의 종류만큼 list가 있어야함\n",
    "    # 각 list에는 columns 수 만큼의 데이터 필요\n",
    "    X = label_Rate\n",
    "    Y = label_Env4\n",
    "\n",
    "    Y_label = ['bw', 'lat']\n",
    "    Y_list = [[0 for i in range(len(Y))] for j in range(len(X))]\n",
    "    \n",
    "    for i, y in enumerate(Y_label):\n",
    "        for j, x in enumerate(X):\n",
    "            num = x.split(\":\")[1]\n",
    "            fname = f'write_4096_{num}_{y}'\n",
    "            if y == 'bw':\n",
    "                Y_list[j][i] = getNthValuesFromBW(os.path.join(os.getcwd(), test + '/' + fname), 3)[-2]\n",
    "            elif y == 'lat':\n",
    "                Y_list[j][i] = getNthValuesFromLat(os.path.join(os.getcwd(), test + '/' + fname), 5)\n",
    "                Y_list[j][i+1] = getNthValuesFromLat(os.path.join(os.getcwd(), test + '/' + fname), 7)\n",
    "            \n",
    "            \n",
    "    ######### Plot ########\n",
    "    df = pd.DataFrame(Y_list, index=X, columns=Y)\n",
    "    print(df)\n",
    "    \n",
    "    fig, ax1 = plt.subplots()\n",
    "    \n",
    "    index = np.arange(len(X))\n",
    "    bar_width=0.4\n",
    "    ax1.bar(index, df[Y[1]], bar_width, color='green', alpha=0.4, label=Y[1])\n",
    "    ax1.set_ylim(0, 200)\n",
    "    ax1.set_xlabel('QP Num')\n",
    "    ax1.set_ylabel('Latency (us)')\n",
    "    ax1.tick_params(axis='y', direction='in')\n",
    "\n",
    "    # ax2 = ax1.twinx()\n",
    "    ax1.bar(index + bar_width, df[Y[2]], bar_width, color='blue', alpha=0.4, label=Y[2])\n",
    "    \n",
    "    ax2 = ax1.twinx()\n",
    "    ax2.plot(X, df[Y[0]], color='red', alpha=0.4, label=Y[0], linewidth=3)\n",
    "    ax2.set_ylim(0, 110)\n",
    "    ax2.tick_params(axis='both', direction='in')\n",
    "    \n",
    "    # 두 그래프의 legend 합치기\n",
    "    lines2, labels2 = ax2.get_legend_handles_labels()\n",
    "    lines, labels = ax1.get_legend_handles_labels()\n",
    "    ax2.legend(lines2 + lines, labels2 + labels, loc='upper left')\n",
    "    plt.xticks(np.arange(bar_width/2, len(index)+bar_width/2, 1), X)\n",
    "    plt.title('Tput & Delays when Single D vs Multi B')\n",
    "    plt.show()"
   ]
  },
  {
   "cell_type": "code",
   "execution_count": 1961,
   "metadata": {},
   "outputs": [],
   "source": [
    "def getTargetFolders(FOLDERS):\n",
    "    folders=[]\n",
    "    FOLDERS = os.listdir(os.getcwd())\n",
    "    print('<Target Folders>')\n",
    "    for item in FOLDERS:\n",
    "        sub_folder = os.path.join(os.getcwd(), item)\n",
    "        if os.path.isdir(sub_folder) and item[:4] == 'test':\n",
    "            folders.append(item)\n",
    "            print(item)\n",
    "    return folders\n",
    "\n",
    "# error: -1\n",
    "def runParser(test):\n",
    "    num = int(test.split('_')[0][4])\n",
    "    file_list = getFileList(os.path.join(os.getcwd(), test))\n",
    "    \n",
    "    if num == 0:\n",
    "        runParserType0(test, file_list)\n",
    "    elif num == 1:\n",
    "        runParserType1(test, file_list)\n",
    "    elif num == 2:\n",
    "        runParserType2(test, file_list)\n",
    "    elif num == 3:\n",
    "        runParserType3(test, file_list)\n",
    "    elif num == 4:\n",
    "        runParserType4(test, file_list)\n",
    "    elif num == 5:\n",
    "        runParserType5(test, file_list)\n",
    "    elif num == 6:\n",
    "        runParserType6(test, file_list)\n",
    "    elif num == 7:\n",
    "        runParserType7(test, file_list)\n",
    "    elif num == 8:\n",
    "        runParserType8(test, file_list)\n",
    "    else:\n",
    "        print(f'Test Number Parsing Error!: {test}')\n",
    "        sys.exit(-1)\n",
    "    "
   ]
  },
  {
   "cell_type": "code",
   "execution_count": 1962,
   "metadata": {},
   "outputs": [
    {
     "name": "stdout",
     "output_type": "stream",
     "text": [
      "<Target Folders>\n",
      "test0_202212270351\n",
      "test1_202212270357\n",
      "test2_202212270402\n",
      "test3_202212270403\n",
      "test4_202212270405\n",
      "test5_202212270407\n",
      "test6_202212270408\n",
      "test7_202212270414\n",
      "test8_202212270454\n",
      "\n",
      "##### TEST 0 #####\n",
      "---> test0_202212270351\n",
      "\n",
      "         1KB MTU    2KB MTU    4KB MTU\n",
      "alone  13.954009  13.843104  13.976274\n",
      "256B   13.419503  13.577230  13.480066\n",
      "512B   13.124321  13.283644  13.125063\n",
      "1KB    10.568981  10.514296  10.550541\n",
      "2KB     8.945142   5.775503   5.794093\n",
      "4KB     8.635521   5.684583   3.495536\n",
      "8KB     8.629801   5.679152   3.512621\n",
      "16KB    8.700615   5.685537   3.492080\n",
      "1MB     8.666437   5.665211   3.516710\n",
      "1GB     8.657057   5.658285   3.530389\n"
     ]
    },
    {
     "data": {
      "image/png": "[encoded data removed]",
      "text/plain": [
       "<Figure size 432x288 with 1 Axes>"
      ]
     },
     "metadata": {
      "needs_background": "light"
     },
     "output_type": "display_data"
    },
    {
     "name": "stdout",
     "output_type": "stream",
     "text": [
      "       1KB MTU  2KB MTU  4KB MTU\n",
      "alone     0.98     0.99     0.99\n",
      "256B      0.94     0.95     0.95\n",
      "512B      0.95     0.95     0.94\n",
      "1KB       2.84     2.82     2.83\n",
      "2KB       4.28     5.41     5.42\n",
      "4KB       4.37     5.34     6.22\n",
      "8KB       4.37     5.34     6.22\n",
      "16KB      4.36     5.33     6.20\n",
      "1MB       4.36     5.35     6.20\n",
      "1GB       4.37     5.36     6.20\n"
     ]
    },
    {
     "data": {
      "image/png": "[encoded data removed]",
      "text/plain": [
       "<Figure size 432x288 with 1 Axes>"
      ]
     },
     "metadata": {
      "needs_background": "light"
     },
     "output_type": "display_data"
    },
    {
     "name": "stdout",
     "output_type": "stream",
     "text": [
      "\n",
      "##### TEST 1 #####\n",
      "---> test1_202212270357\n",
      "\n",
      "           alone  competed\n",
      "write  13.926735  3.527702\n",
      "send   13.933658  3.520683\n",
      "read    6.880558  1.340462\n"
     ]
    },
    {
     "data": {
      "image/png": "[encoded data removed]",
      "text/plain": [
       "<Figure size 432x288 with 1 Axes>"
      ]
     },
     "metadata": {
      "needs_background": "light"
     },
     "output_type": "display_data"
    },
    {
     "name": "stdout",
     "output_type": "stream",
     "text": [
      "       alone  competed\n",
      "write  98.04     94.87\n",
      "send   98.04     95.32\n",
      "read   98.04     96.97\n"
     ]
    },
    {
     "data": {
      "image/png": "[encoded data removed]",
      "text/plain": [
       "<Figure size 432x288 with 1 Axes>"
      ]
     },
     "metadata": {
      "needs_background": "light"
     },
     "output_type": "display_data"
    },
    {
     "name": "stdout",
     "output_type": "stream",
     "text": [
      "       alone avg  competed avg  alone 99%  competed 99%\n",
      "write       1.00          6.20       1.19          6.40\n",
      "send        1.02          6.25       1.24          6.59\n",
      "read        1.98         12.38       2.29         12.72\n"
     ]
    },
    {
     "data": {
      "image/png": "[encoded data removed]",
      "text/plain": [
       "<Figure size 432x288 with 1 Axes>"
      ]
     },
     "metadata": {
      "needs_background": "light"
     },
     "output_type": "display_data"
    },
    {
     "name": "stdout",
     "output_type": "stream",
     "text": [
      "       alone  competed\n",
      "write  98.04     97.90\n",
      "send   98.04     97.91\n",
      "read   98.04     97.97\n"
     ]
    },
    {
     "data": {
      "image/png": "[encoded data removed]",
      "text/plain": [
       "<Figure size 432x288 with 1 Axes>"
      ]
     },
     "metadata": {
      "needs_background": "light"
     },
     "output_type": "display_data"
    },
    {
     "name": "stdout",
     "output_type": "stream",
     "text": [
      "\n",
      "##### TEST 2 #####\n",
      "---> test2_202212270402\n",
      "\n",
      "      1MB    1GB\n",
      "1   45.79  53.26\n",
      "2   49.02  49.82\n",
      "4   49.02  49.82\n",
      "8   49.02  49.82\n",
      "16  49.02  49.82\n",
      "32  49.02  49.82\n"
     ]
    },
    {
     "data": {
      "image/png": "[encoded data removed]",
      "text/plain": [
       "<Figure size 432x288 with 1 Axes>"
      ]
     },
     "metadata": {
      "needs_background": "light"
     },
     "output_type": "display_data"
    },
    {
     "name": "stdout",
     "output_type": "stream",
     "text": [
      "\n",
      "##### TEST 3 #####\n",
      "---> test3_202212270403\n",
      "\n",
      "      single  multi\n",
      "1:1    49.02  49.01\n",
      "1:2    32.68  65.35\n",
      "1:4    19.61  78.42\n",
      "1:8    10.89  87.14\n",
      "1:16    5.77  92.28\n",
      "1:32    2.97  95.09\n"
     ]
    },
    {
     "data": {
      "image/png": "[encoded data removed]",
      "text/plain": [
       "<Figure size 432x288 with 1 Axes>"
      ]
     },
     "metadata": {
      "needs_background": "light"
     },
     "output_type": "display_data"
    },
    {
     "name": "stdout",
     "output_type": "stream",
     "text": [
      "\n",
      "##### TEST 4 #####\n",
      "---> test4_202212270405\n",
      "\n",
      "             alone   competed\n",
      "1KB MTU  13.908888  13.808622\n",
      "2KB MTU  13.992339  13.844055\n",
      "4KB MTU  13.928842  13.809040\n"
     ]
    },
    {
     "data": {
      "image/png": "[encoded data removed]",
      "text/plain": [
       "<Figure size 432x288 with 1 Axes>"
      ]
     },
     "metadata": {
      "needs_background": "light"
     },
     "output_type": "display_data"
    },
    {
     "name": "stdout",
     "output_type": "stream",
     "text": [
      "         alone avg  competed avg  alone 99%  competed 99%\n",
      "1KB MTU       0.99          0.94       1.16          1.15\n",
      "2KB MTU       0.99          0.93       1.17          1.14\n",
      "4KB MTU       1.00          0.95       1.20          1.16\n"
     ]
    },
    {
     "data": {
      "image/png": "[encoded data removed]",
      "text/plain": [
       "<Figure size 432x288 with 1 Axes>"
      ]
     },
     "metadata": {
      "needs_background": "light"
     },
     "output_type": "display_data"
    },
    {
     "name": "stdout",
     "output_type": "stream",
     "text": [
      "\n",
      "##### TEST 5 #####\n",
      "---> test5_202212270407\n",
      "\n",
      "       single      multi\n",
      "1:1     94.83   3.540523\n",
      "1:2     92.35   6.267727\n",
      "1:4     87.81  11.418916\n",
      "1:8     80.02  20.152718\n",
      "1:16    69.28  32.200721\n",
      "1:32    68.90  32.579860\n",
      "1:64    58.09  46.790277\n",
      "1:128   41.91  67.677845\n"
     ]
    },
    {
     "data": {
      "image/png": "[encoded data removed]",
      "text/plain": [
       "<Figure size 432x288 with 2 Axes>"
      ]
     },
     "metadata": {
      "needs_background": "light"
     },
     "output_type": "display_data"
    },
    {
     "name": "stdout",
     "output_type": "stream",
     "text": [
      "\n",
      "##### TEST 6 #####\n",
      "---> test6_202212270408\n",
      "\n",
      "          single       multi\n",
      "1:1    13.239195   13.239413\n",
      "1:2    13.708604   27.374821\n",
      "1:4    13.323603   53.473337\n",
      "1:8    12.328758   97.291012\n",
      "1:16    6.856519  102.791547\n",
      "1:32    4.011623  105.653083\n",
      "1:64    1.460326  261.036835\n",
      "1:128   2.228858  108.698973\n"
     ]
    },
    {
     "data": {
      "image/png": "[encoded data removed]",
      "text/plain": [
       "<Figure size 432x288 with 1 Axes>"
      ]
     },
     "metadata": {
      "needs_background": "light"
     },
     "output_type": "display_data"
    },
    {
     "name": "stdout",
     "output_type": "stream",
     "text": [
      "\n",
      "##### TEST 7 #####\n",
      "---> test7_202212270414\n",
      "\n",
      "            tput  avg. lat  99% delay\n",
      "1:1    13.823394      0.94       1.14\n",
      "1:2    27.386604      0.92       1.13\n",
      "1:4    53.585697      0.93       1.12\n",
      "1:8   102.347366      1.00       1.21\n",
      "1:16  109.060618      1.49       1.67\n",
      "1:32  109.246290      2.13       1.85\n"
     ]
    },
    {
     "data": {
      "image/png": "[encoded data removed]",
      "text/plain": [
       "<Figure size 432x288 with 2 Axes>"
      ]
     },
     "metadata": {
      "needs_background": "light"
     },
     "output_type": "display_data"
    },
    {
     "name": "stdout",
     "output_type": "stream",
     "text": [
      "\n",
      "##### TEST 8 #####\n",
      "---> test8_202212270454\n",
      "\n",
      "       tput  avg. lat  99% delay\n",
      "1:1   97.90      6.20       6.39\n",
      "1:2   97.89      6.34       6.56\n",
      "1:4   97.91      6.67       6.90\n",
      "1:8   97.92      6.70       6.94\n",
      "1:16  97.94      8.40       8.26\n",
      "1:32  98.02     46.29     136.14\n"
     ]
    },
    {
     "data": {
      "image/png": "[encoded data removed]",
      "text/plain": [
       "<Figure size 432x288 with 2 Axes>"
      ]
     },
     "metadata": {
      "needs_background": "light"
     },
     "output_type": "display_data"
    }
   ],
   "source": [
    "BASE_DIR = os.getcwd()\n",
    "TEST_LIST = getTargetFolders(BASE_DIR)\n",
    "\n",
    "# runParser('test2_202212270334')\n",
    "for test in TEST_LIST:\n",
    "    runParser(test)\n",
    "        "
   ]
  },
  {
   "cell_type": "code",
   "execution_count": 1963,
   "metadata": {},
   "outputs": [],
   "source": [
    "# import os\n",
    "# import pandas as pd\n",
    "# import matplotlib.pyplot as plt\n",
    "# import numpy as np\n",
    "\n",
    "# X = label_Ops\n",
    "\n",
    "# Y1=[12, 45]\n",
    "# Y2=[2, 4]\n",
    "# Y3=[3, 5]\n",
    "# df = pd.DataFrame([Y1, Y2, Y3], index=X, columns=label_Env)\n",
    "# print(df)\n",
    "\n",
    "# # fig, ax = plt.subplots(figsize=(12,6))\n",
    "# bar_width=0.4\n",
    "\n",
    "# # 각 연도별로 3개 샵의 bar를 순서대로 나타내는 과정\n",
    "# index = np.arange(len(X))\n",
    "# plt.bar(index, df['alone'], bar_width, alpha=0.4, color='red', label='alone')\n",
    "# plt.bar(index + bar_width, df['competed'], bar_width, alpha=0.4, color='blue', label='competed')\n",
    "\n",
    "# # x축 위치를 정 가운데로 조정하고 x축의 텍스트를 year 정보와 매칭\n",
    "# plt.xticks(np.arange(bar_width/2, len(index)+bar_width/2, 1), X)\n",
    "# plt.xlabel('Operation', size = 13)\n",
    "# plt.ylabel('Throughput(Mops)', size = 13)\n",
    "# plt.legend()\n",
    "# plt.show()"
   ]
  },
  {
   "cell_type": "code",
   "execution_count": 1964,
   "metadata": {},
   "outputs": [],
   "source": [
    "# import matplotlib.pyplot as plt\n",
    "# import numpy as np\n",
    "\n",
    "# x = np.arange(3)\n",
    "# index = np.arrange(len())\n",
    "\n",
    "# plt.bar(x, values)\n",
    "# plt.xticks(x, years)\n",
    "\n",
    "# plt.show()"
   ]
  },
  {
   "cell_type": "markdown",
   "metadata": {},
   "source": []
  }
 ],
 "metadata": {
  "kernelspec": {
   "display_name": "Python 3.8.10 64-bit",
   "language": "python",
   "name": "python3"
  },
  "language_info": {
   "codemirror_mode": {
    "name": "ipython",
    "version": 3
   },
   "file_extension": ".py",
   "mimetype": "text/x-python",
   "name": "python",
   "nbconvert_exporter": "python",
   "pygments_lexer": "ipython3",
   "version": "3.8.10"
  },
  "orig_nbformat": 4,
  "vscode": {
   "interpreter": {
    "hash": "fce63988e008b98ca663dbca049ac0420efbd8b6389c94ff7fdcccd1848dd292"
   }
  }
 },
 "nbformat": 4,
 "nbformat_minor": 2
}
